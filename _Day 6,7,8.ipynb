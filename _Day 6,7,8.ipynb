{
 "cells": [
  {
   "cell_type": "code",
   "execution_count": 1,
   "metadata": {},
   "outputs": [
    {
     "name": "stdout",
     "output_type": "stream",
     "text": [
      "enter number 12\n",
      "enter number 23\n",
      "enter number 35\n",
      "a3 is the larger number\n"
     ]
    }
   ],
   "source": [
    "# greater among 3 numbers\n",
    "a1= int(input(\"enter number 1\"))\n",
    "a2= int(input(\"enter number 2\"))\n",
    "a3= int(input(\"enter number 3\"))\n",
    "\n",
    "if a1>a2 and a1>a3:\n",
    "    print(\"a1 is the larger number\")\n",
    "elif a2>a1 and a2>a3:\n",
    "    print(\"a2 is the larger number\")\n",
    "else:\n",
    "    print(\"a3 is the larger number\")       "
   ]
  },
  {
   "cell_type": "code",
   "execution_count": 11,
   "metadata": {},
   "outputs": [
    {
     "name": "stdout",
     "output_type": "stream",
     "text": [
      "enter the year2019\n",
      "not a leap year\n"
     ]
    }
   ],
   "source": [
    "year= int(input(\"enter the year\"))\n",
    "if year%400 == 0:\n",
    "    print(\"it is leap year\")\n",
    "else:\n",
    "    print(\"not a leap year\")      leap year or not"
   ]
  },
  {
   "cell_type": "markdown",
   "metadata": {},
   "source": [
    "### Iteration\n",
    "* while\n",
    "* for\n",
    "* Syntax: while Boolean_condition:\n",
    "        Statements\n",
    "        Increment/Decrement"
   ]
  },
  {
   "cell_type": "code",
   "execution_count": 13,
   "metadata": {},
   "outputs": [
    {
     "name": "stdout",
     "output_type": "stream",
     "text": [
      "gitam\n",
      "gitam\n",
      "gitam\n",
      "gitam\n",
      "gitam\n"
     ]
    }
   ],
   "source": [
    "x=0\n",
    "while x<5:\n",
    "    print(\"gitam\")\n",
    "    x=x+1"
   ]
  },
  {
   "cell_type": "code",
   "execution_count": 15,
   "metadata": {},
   "outputs": [],
   "source": [
    "# N natural numbers using WHILE loop\n",
    "# input= 10\n",
    "# output= 1 2 3...10"
   ]
  },
  {
   "cell_type": "code",
   "execution_count": 20,
   "metadata": {},
   "outputs": [
    {
     "name": "stdout",
     "output_type": "stream",
     "text": [
      "enter a number5\n",
      "12345"
     ]
    }
   ],
   "source": [
    "n= int(input(\"enter a number\"))\n",
    "i = 1\n",
    "while i <= n :\n",
    "    print(i,end ='')\n",
    "    i = i + 1"
   ]
  },
  {
   "cell_type": "code",
   "execution_count": 21,
   "metadata": {},
   "outputs": [],
   "source": [
    "# READ A NUMBER\n",
    "# ADD ONLY EVEN NUMS BETWEEN 1 TO 10\n",
    "# INPUT = 4\n",
    "# OUTPUT = 2+4=6"
   ]
  },
  {
   "cell_type": "code",
   "execution_count": 1,
   "metadata": {},
   "outputs": [
    {
     "name": "stdout",
     "output_type": "stream",
     "text": [
      "enter a number7\n",
      "12\n"
     ]
    }
   ],
   "source": [
    "n= int(input(\"enter a number\"))\n",
    "i = 1\n",
    "sum = 0\n",
    "while i <= n:\n",
    "    if i % 2 == 0:\n",
    "        sum = sum + i\n",
    "    i = i+1\n",
    "print(sum)        "
   ]
  },
  {
   "cell_type": "code",
   "execution_count": 4,
   "metadata": {
    "scrolled": true
   },
   "outputs": [
    {
     "name": "stdout",
     "output_type": "stream",
     "text": [
      "enter a number21\n",
      "12"
     ]
    }
   ],
   "source": [
    "# Number as Number -- 123\n",
    "# Print the digits of given number : 3 2 1\n",
    "n = int(input(\"enter a number\"))\n",
    "while n!=0:\n",
    "    r =n%10 \n",
    "    print(r,end ='')\n",
    "    n = n // 10    "
   ]
  },
  {
   "cell_type": "code",
   "execution_count": null,
   "metadata": {},
   "outputs": [],
   "source": [
    "## FUNCIONAL PROGRAMMING\n",
    "* Simple\n",
    "* Easy Read\n",
    "* Lengthy programmes divides into sub programmes.\n",
    "* syntax : def   name of the fucntion(<parameters>):\n",
    "* Statement\n",
    "* return"
   ]
  },
  {
   "cell_type": "code",
   "execution_count": null,
   "metadata": {
    "scrolled": true
   },
   "outputs": [],
   "source": [
    "# Read a number -- 1234\n",
    "# Output -- 6(2+4)\n",
    "def addEvenDigits(n):\n",
    "    sum= 0\n",
    "    while n!=0:\n",
    "        r = n % 10\n",
    "        if r % 2 ==0:\n",
    "            sum =sum + r\n",
    "            n = n//10        \n",
    "    return sum\n",
    "addEvenDigits(1234)   \n",
    "output: 6"
   ]
  },
  {
   "cell_type": "code",
   "execution_count": null,
   "metadata": {},
   "outputs": [],
   "source": [
    "n= 2,3,4\n",
    "print(n)"
   ]
  },
  {
   "cell_type": "code",
   "execution_count": null,
   "metadata": {},
   "outputs": [],
   "source": [
    "n=1+2**3/4*5\n",
    "print(n) "
   ]
  },
  {
   "cell_type": "code",
   "execution_count": null,
   "metadata": {},
   "outputs": [],
   "source": [
    "# Read a number -- 19528\n",
    "# Print the large digit print the number\n",
    "def PrintLarge(n):\n",
    "    large = 0\n",
    "    while n!= 0:\n",
    "        r = n % 10\n",
    "        if large < r:\n",
    "            large = r\n",
    "            n= n // 10\n",
    "        return large\n",
    "PrintLarge(19528)\n",
    "ouput: 9"
   ]
  },
  {
   "cell_type": "code",
   "execution_count": null,
   "metadata": {},
   "outputs": [],
   "source": [
    "# Read a number Input\n",
    "# Output reverse of the given number\n",
    "# 123 -- 321\n",
    "def ReverseNumber(n):\n",
    "    return\n",
    "ReverseNumber(123)"
   ]
  },
  {
   "cell_type": "code",
   "execution_count": 23,
   "metadata": {},
   "outputs": [
    {
     "data": {
      "text/plain": [
       "321"
      ]
     },
     "execution_count": 23,
     "metadata": {},
     "output_type": "execute_result"
    }
   ],
   "source": [
    "def reversenumber(n):    \n",
    "    rev = 0\n",
    "    while n !=0:\n",
    "        r = n%10\n",
    "        rev = rev * 10 + r\n",
    "        n = n // 10    \n",
    "    return rev\n",
    "reversenumber(123)"
   ]
  },
  {
   "cell_type": "code",
   "execution_count": 47,
   "metadata": {},
   "outputs": [
    {
     "name": "stdout",
     "output_type": "stream",
     "text": [
      "No\n",
      "No\n"
     ]
    }
   ],
   "source": [
    "# Input\n",
    "# 123 -- 321 -- no\n",
    "# 121 -- 121 -- yes\n",
    "def isPalindrome(n):\n",
    "    rev = 0\n",
    "    buffer = n\n",
    "    while n!=0:\n",
    "        r=n%10\n",
    "        rev=rev *10 + r\n",
    "        n=n // 10\n",
    "        if buffer == rev:\n",
    "            return\"Yes\"\n",
    "        else:\n",
    "            return\"No\"\n",
    "print(isPalindrome(123))\n",
    "print(isPalindrome(658))\n",
    "                "
   ]
  },
  {
   "cell_type": "code",
   "execution_count": 11,
   "metadata": {},
   "outputs": [
    {
     "name": "stdout",
     "output_type": "stream",
     "text": [
      "1 2 3 4 5 6 7 8 9 10 "
     ]
    }
   ],
   "source": [
    "# Function to print N natural numbers using loop\n",
    "def printnaturalnumbers(n):\n",
    "    for x in range(1,n+1):\n",
    "        print(x,end=\" \")\n",
    "    return\n",
    "printnaturalnumbers(10)"
   ]
  },
  {
   "cell_type": "code",
   "execution_count": 18,
   "metadata": {},
   "outputs": [
    {
     "name": "stdout",
     "output_type": "stream",
     "text": [
      "15 16 17 18 19 20 21 22 23 24 25 "
     ]
    }
   ],
   "source": [
    "# Function to print between two limits\n",
    "# Input(15,25)\n",
    "# Output(15,16,17,18....24)\n",
    "def printseries(lb,ub):\n",
    "    for x in range(lb,ub):\n",
    "        print(x,end=\" \")\n",
    "    return\n",
    "printseries(15,26)"
   ]
  },
  {
   "cell_type": "code",
   "execution_count": 29,
   "metadata": {},
   "outputs": [
    {
     "name": "stdout",
     "output_type": "stream",
     "text": [
      "200 202 204 206 208 210 212 214 216 218 "
     ]
    }
   ],
   "source": [
    "# Function to print Alternate Numbers\n",
    "# Intput(200,205)\n",
    "# Output(201,203,205)\n",
    "def alternatenumbers(lb,ub):\n",
    "    for x in range(lb,ub,2):\n",
    "        print(x,end=\" \")\n",
    "    return\n",
    "alternatenumbers(200,220)"
   ]
  },
  {
   "cell_type": "code",
   "execution_count": 33,
   "metadata": {
    "scrolled": true
   },
   "outputs": [
    {
     "name": "stdout",
     "output_type": "stream",
     "text": [
      "15 13 11 9 7 "
     ]
    }
   ],
   "source": [
    "# Function to print Series in reverse\n",
    "# input(5,15)\n",
    "# output(15,13,11,9,7)\n",
    "def reverserange(start,end):\n",
    "    for x in range(end,start,-2):\n",
    "        print(x,end=\" \")\n",
    "    return\n",
    "reverserange(5,15)"
   ]
  },
  {
   "cell_type": "markdown",
   "metadata": {},
   "source": [
    "img<src jpg.1"
   ]
  },
  {
   "cell_type": "markdown",
   "metadata": {},
   "source": [
    "* Problem name\n",
    "* Algorithm\n",
    "* Sample Input and Output\n",
    "* Flowchart \n",
    "* Python Code"
   ]
  },
  {
   "cell_type": "code",
   "execution_count": 3,
   "metadata": {
    "scrolled": true
   },
   "outputs": [
    {
     "data": {
      "text/plain": [
       "True"
      ]
     },
     "execution_count": 3,
     "metadata": {},
     "output_type": "execute_result"
    }
   ],
   "source": [
    "# Given number is prime or not \n",
    "def isprime(n):\n",
    "    flag = True\n",
    "    for i in range(2,n//2+1):\n",
    "        if n% i == 0:\n",
    "            flag = False\n",
    "            return flag\n",
    "        return flag\n",
    "isprime(11)  \n"
   ]
  },
  {
   "cell_type": "code",
   "execution_count": 24,
   "metadata": {},
   "outputs": [
    {
     "data": {
      "text/plain": [
       "4"
      ]
     },
     "execution_count": 24,
     "metadata": {},
     "output_type": "execute_result"
    }
   ],
   "source": [
    "# Function to find prime numbers count from 1 to N\n",
    "# n=10 --4{2,3,5,7}\n",
    "def primecount(n):\n",
    "    cnt = 0\n",
    "    for a in range(2,n+1):\n",
    "        k = 0\n",
    "        for i in range(2,a//2+1):\n",
    "            if a%i ==0:\n",
    "                k=k+1\n",
    "        if(k<=0):      \n",
    "            cnt=cnt+1\n",
    "    return cnt\n",
    "primecount(10)"
   ]
  },
  {
   "cell_type": "code",
   "execution_count": 30,
   "metadata": {},
   "outputs": [
    {
     "name": "stdout",
     "output_type": "stream",
     "text": [
      "Yes\n",
      "No\n"
     ]
    }
   ],
   "source": [
    "# Yes-Individual digit sum factorial sum is same as original number\n",
    "# example :-\n",
    "# 145 -- Yes (5!+4!+1! = 145)\n",
    "# 123 -- No (3!+2!+1! = 9)\n",
    "def factorial(n):\n",
    "    fact = 1\n",
    "    for i in range(2,n+1):\n",
    "        fact *= i\n",
    "    return fact\n",
    "def digitfactsum(n):\n",
    "    sum = 0\n",
    "    buffer = n\n",
    "    while n != 0 :\n",
    "        r = n% 10\n",
    "        sum += factorial(r)\n",
    "        n = n // 10\n",
    "    if sum == buffer:\n",
    "        return \"Yes\"\n",
    "    else:\n",
    "        return \"No\"\n",
    "    return \n",
    "print(digitfactsum(145))\n",
    "print(digitfactsum(123))"
   ]
  },
  {
   "cell_type": "code",
   "execution_count": 36,
   "metadata": {},
   "outputs": [
    {
     "data": {
      "text/plain": [
       "9"
      ]
     },
     "execution_count": 36,
     "metadata": {},
     "output_type": "execute_result"
    }
   ],
   "source": [
    "# Function to return the count of palindrome number two limits\n",
    "# Input : 1 10\n",
    "# Output : 9(1,2,3,4,5,6,7,8,9)\n",
    "\n",
    "\n",
    "# Onput : 11 100\n",
    "# Output: 9(11,22,33,44......,99)\n",
    "def ispalindrome(n):\n",
    "    rev = 0\n",
    "    buffer = n\n",
    "    while n!= 0:\n",
    "        r = n % 10\n",
    "        rev = rev * 10 + r\n",
    "        n = n // 10\n",
    "    if rev == buffer:\n",
    "        return True\n",
    "    else:\n",
    "        return False\n",
    "    return\n",
    "def countpalindrome(lb,ub):\n",
    "    cnt = 0\n",
    "    while lb !=ub:\n",
    "        # Implement\n",
    "        if ispalindrome(lb) == True:\n",
    "            cnt = cnt + 1\n",
    "        lb = lb + 1\n",
    "    return cnt\n",
    "countpalindrome(1,10)"
   ]
  },
  {
   "cell_type": "code",
   "execution_count": 26,
   "metadata": {},
   "outputs": [
    {
     "name": "stdout",
     "output_type": "stream",
     "text": [
      "6 \n",
      "6 28 496 8128 \n"
     ]
    }
   ],
   "source": [
    "# Function to generate the Perfect numbers in a given range\n",
    "# Perfect Number :sum of all its factors same as original number\n",
    "#Ex: 6 --1 2 3 (1+2+3)\n",
    "# i/p : 1  10\n",
    "#o/p : 6\n",
    "\n",
    "def factorsList(n):\n",
    "    sum= 0\n",
    "    for i in range(1,n//2+1):\n",
    "        if n%i==0:\n",
    "            sum=sum+i\n",
    "        \n",
    "    return sum\n",
    "def isPerfect(n):\n",
    "    if factorsList(n) ==n:\n",
    "        return True\n",
    "    return False\n",
    "def generatePerfect(lb,ub):\n",
    "    for x in range(lb,ub+1):\n",
    "        if isPerfect(x):\n",
    "            print(x,end =\" \")\n",
    "    print()\n",
    "    return\n",
    "generatePerfect(1,10)\n",
    "generatePerfect(1,10000)"
   ]
  },
  {
   "cell_type": "code",
   "execution_count": 43,
   "metadata": {},
   "outputs": [
    {
     "name": "stdout",
     "output_type": "stream",
     "text": [
      "p\n",
      "y\n",
      "t\n",
      "h\n",
      "o\n",
      "n\n",
      "n\n"
     ]
    }
   ],
   "source": [
    "s1 = 'python'\n",
    "print(s1[0])\n",
    "print(s1[1])\n",
    "print(s1[2])\n",
    "print(s1[3])\n",
    "print(s1[-2])        \n",
    "print(s1[len(s1)-1])\n",
    "print(s1[len(s1)-1])"
   ]
  },
  {
   "cell_type": "code",
   "execution_count": 72,
   "metadata": {},
   "outputs": [
    {
     "name": "stdout",
     "output_type": "stream",
     "text": [
      "py\n",
      "py\n",
      "pyt\n",
      "pyth\n",
      "hon\n",
      "ytho\n",
      "h\n",
      "nohtyp\n",
      "no\n",
      "pto\n",
      "ph\n",
      "noh\n"
     ]
    }
   ],
   "source": [
    "print(s1[0:2])\n",
    "print(s1[:2])\n",
    "print(s1[:3])\n",
    "print(s1[:-2])\n",
    "print(s1[-3:])\n",
    "print(s1[1:-1])\n",
    "print(s1[len(s1)//2])\n",
    "print(s1[-1::-1])\n",
    "print(s1[-1:3:-1])\n",
    "print(s1[::2]) \n",
    "print(s1[::3])\n",
    "print(s1[-1:2:-1])"
   ]
  },
  {
   "cell_type": "code",
   "execution_count": 84,
   "metadata": {},
   "outputs": [
    {
     "name": "stdout",
     "output_type": "stream",
     "text": [
      "False\n",
      "True\n"
     ]
    }
   ],
   "source": [
    "def ispalindrome(str):\n",
    "    if str == str[::-1]:\n",
    "        return True\n",
    "    else:\n",
    "        return False\n",
    "    return\n",
    "print(ispalindrome(\"python\"))\n",
    "print(ispalindrome(\"gamag\"))"
   ]
  },
  {
   "cell_type": "code",
   "execution_count": 1,
   "metadata": {},
   "outputs": [
    {
     "data": {
      "text/plain": [
       "'gnimmargorp'"
      ]
     },
     "execution_count": 1,
     "metadata": {},
     "output_type": "execute_result"
    }
   ],
   "source": [
    "def reversestring(str):\n",
    "    return str[-1::-1]\n",
    "reversestring(\"programming\")"
   ]
  },
  {
   "cell_type": "code",
   "execution_count": 3,
   "metadata": {
    "scrolled": true
   },
   "outputs": [
    {
     "data": {
      "text/plain": [
       "65"
      ]
     },
     "execution_count": 3,
     "metadata": {},
     "output_type": "execute_result"
    }
   ],
   "source": [
    "ord('A')"
   ]
  },
  {
   "cell_type": "code",
   "execution_count": 38,
   "metadata": {},
   "outputs": [
    {
     "name": "stdout",
     "output_type": "stream",
     "text": [
      "Y\n",
      "T\n"
     ]
    }
   ],
   "source": [
    "# ASCII\n",
    "# A-Z : 65-90\n",
    "# a-z : 97-122\n",
    "# 0-9 : 48-57\n",
    "# space: 32\n",
    "def printupper(x):\n",
    "    for i in range(len(x)):\n",
    "        if ord(x[i]) >= 65 and ord(x[i]) <= 90:\n",
    "            print(x[i])\n",
    "    return \n",
    "printupper(\"pYThon\")"
   ]
  },
  {
   "cell_type": "code",
   "execution_count": 11,
   "metadata": {
    "scrolled": true
   },
   "outputs": [
    {
     "data": {
      "text/plain": [
       "110"
      ]
     },
     "execution_count": 11,
     "metadata": {},
     "output_type": "execute_result"
    }
   ],
   "source": [
    "ord('n')"
   ]
  },
  {
   "cell_type": "code",
   "execution_count": 13,
   "metadata": {
    "scrolled": true
   },
   "outputs": [
    {
     "data": {
      "text/plain": [
       "52"
      ]
     },
     "execution_count": 13,
     "metadata": {},
     "output_type": "execute_result"
    }
   ],
   "source": [
    "ord('4')"
   ]
  },
  {
   "cell_type": "code",
   "execution_count": 63,
   "metadata": {},
   "outputs": [
    {
     "data": {
      "text/plain": [
       "88"
      ]
     },
     "execution_count": 63,
     "metadata": {},
     "output_type": "execute_result"
    }
   ],
   "source": [
    "ord('X')"
   ]
  },
  {
   "cell_type": "code",
   "execution_count": null,
   "metadata": {},
   "outputs": [],
   "source": [
    "# Function to print \"samecount\" if the count of\n",
    "# upper and lower case is same\n",
    "# print \"programming\" if not same\n",
    "# example : pyTHon -- 2 TH (uppercase) -- samecount\n",
    "                   -- 4 pyon (lower case)\n",
    "          : PyThoN -- 3 PTN (uppercase)\n",
    "                   -- 3 yho (lowercase)"
   ]
  },
  {
   "cell_type": "code",
   "execution_count": 66,
   "metadata": {},
   "outputs": [
    {
     "data": {
      "text/plain": [
       "97"
      ]
     },
     "execution_count": 66,
     "metadata": {},
     "output_type": "execute_result"
    }
   ],
   "source": [
    "ord('a')"
   ]
  },
  {
   "cell_type": "code",
   "execution_count": 67,
   "metadata": {},
   "outputs": [
    {
     "name": "stdout",
     "output_type": "stream",
     "text": [
      "SameCount\n",
      "Programming\n"
     ]
    }
   ],
   "source": [
    "# Function to print \"Python\" if the count of\n",
    "# Upper and lower case is same\n",
    "# Print \"Programming\" if not same\n",
    "# ex: PyThOn ---3 P T O (upper case)\n",
    "#              3 y h n (lower case)\n",
    "#PytHon --P H (2)\n",
    "#       --y t o n(4) -Programming\n",
    "\n",
    "\n",
    "def findCount(str):\n",
    "    cntUpper =0\n",
    "    cntLower =0\n",
    "    for x in range(len(str)):\n",
    "        if ord(str[x]) >=65 and ord(str[x])<=90:\n",
    "            cntUpper=cntUpper+1\n",
    "        elif ord(str[x]) >=97 and ord(str[x])<=122:\n",
    "            cntLower=cntLower+1\n",
    "    if cntUpper == cntLower:\n",
    "        return \"SameCount\"\n",
    "    else:\n",
    "        return \"Programming\"\n",
    "    return\n",
    "print(findCount('PyThOn'))  #SameCount\n",
    "print(findCount('PYTHon'))  #Programming\n"
   ]
  },
  {
   "cell_type": "code",
   "execution_count": 68,
   "metadata": {},
   "outputs": [],
   "source": [
    "# Extract digits from given string\n",
    "# Example:\n",
    "# Input : Appl1icat8ion89\n",
    "# Output : 1 8 8 9"
   ]
  },
  {
   "cell_type": "code",
   "execution_count": 69,
   "metadata": {},
   "outputs": [
    {
     "data": {
      "text/plain": [
       "26"
      ]
     },
     "execution_count": 69,
     "metadata": {},
     "output_type": "execute_result"
    }
   ],
   "source": [
    "# Function to return the sum of digits\n",
    "# Input : Appli1cat8ion89\n",
    "# Output : 26(1+8+8+9)\n",
    "def sumofdigits(str):\n",
    "    sum = 0\n",
    "    for x in range(len(str)):\n",
    "        if ord(str[x]) >= 48 and ord(str[x]) <=57:\n",
    "            sum=sum + (ord(str[x])-48)\n",
    "    return sum\n",
    "sumofdigits('Appli1cat8ion89')        "
   ]
  },
  {
   "cell_type": "code",
   "execution_count": 70,
   "metadata": {},
   "outputs": [
    {
     "data": {
      "text/plain": [
       "16"
      ]
     },
     "execution_count": 70,
     "metadata": {},
     "output_type": "execute_result"
    }
   ],
   "source": [
    "# Sum of even digits\n",
    "def sumofevendigits(str):\n",
    "    sum = 0\n",
    "    for x in range(len(str)):\n",
    "        if ord(str[x]) >= 48 and ord(str[x]) <=57:\n",
    "            if(ord(str[x])-48) % 2 == 0:   \n",
    "                sum=sum + (ord(str[x])-48)\n",
    "    return sum\n",
    "sumofevendigits('Appli1cat8ion89') "
   ]
  },
  {
   "cell_type": "code",
   "execution_count": 83,
   "metadata": {},
   "outputs": [
    {
     "name": "stdout",
     "output_type": "stream",
     "text": [
      "MADE"
     ]
    }
   ],
   "source": [
    "def worduppercase(s):\n",
    "    spaceCnt = 0\n",
    "    for x in range(len(s)):\n",
    "        if ord(s[x]) == 32:\n",
    "            spaceCnt += 1 # spaceCent = spaceCent + 1\n",
    "        if spaceCnt == 1:\n",
    "            if ord(s[x]) >=65 and ord(s[x]) <=90:\n",
    "                print(s[x],end=\"\")\n",
    "            elif ord(s[x]) >=97 and ord(s[x]) <=122:\n",
    "                print(chr(ord(s[x])-32),end=\"\")\n",
    "        if spaceCnt == 2:\n",
    "            break\n",
    "    return\n",
    "worduppercase(\"Python Made Easy\") "
   ]
  },
  {
   "cell_type": "code",
   "execution_count": 2,
   "metadata": {},
   "outputs": [
    {
     "name": "stdout",
     "output_type": "stream",
     "text": [
      "eoiim\n"
     ]
    }
   ],
   "source": [
    "x = 'gitam engineering college'\n",
    "print(x[len(x)::-5])"
   ]
  },
  {
   "cell_type": "markdown",
   "metadata": {},
   "source": [
    "# Day objectives\n",
    "* Python data structures\n",
    " * Lists\n",
    " * Tuples\n",
    " * Dictionaries\n",
    "* Basic Program sets on data structures\n",
    "* advanced problem set\n",
    "* contact application(dictionary object)\n",
    "\n",
    "# Data structures\n",
    "* To store ,search and Sort the data\n",
    "\n",
    "\n",
    "## pyhton data structures\n",
    "### lists\n",
    "* It is one of the common data structures supports by python,the list items are separated by comma operator and enclosed in square brackets\n",
    "* example:\n",
    "  * list1 = [1,6,2,18,9]\n",
    "  * list2 = [\"gitam\",12,12,15.5,\"hyderabad\"]\n",
    "  \n"
   ]
  },
  {
   "cell_type": "code",
   "execution_count": 5,
   "metadata": {
    "scrolled": true
   },
   "outputs": [
    {
     "name": "stdout",
     "output_type": "stream",
     "text": [
      "[1, 8, 16, 9, 2]\n",
      "1\n",
      "8\n",
      "2\n",
      "9\n",
      "16\n",
      "[8, 16, 9, 2]\n"
     ]
    }
   ],
   "source": [
    "lst = [1,8,16,9,2]\n",
    "print(lst)\n",
    "print(lst[0])\n",
    "print(lst[1])\n",
    "print(lst[-1])\n",
    "print(lst[-2])\n",
    "print(lst[2])\n",
    "print(lst[1:])"
   ]
  },
  {
   "cell_type": "code",
   "execution_count": 9,
   "metadata": {},
   "outputs": [
    {
     "name": "stdout",
     "output_type": "stream",
     "text": [
      "['Gitam', 'Python', 1989, 2002]\n",
      "['Gitam', 'Python', 2019, 2002]\n"
     ]
    }
   ],
   "source": [
    "# Update the list item values using index(Direct referencing)\n",
    "li = [\"Gitam\",\"Python\",1989,2002]\n",
    "print(li)\n",
    "li[2] = 2019\n",
    "print(li)"
   ]
  },
  {
   "cell_type": "code",
   "execution_count": 11,
   "metadata": {},
   "outputs": [
    {
     "name": "stdout",
     "output_type": "stream",
     "text": [
      "5\n",
      "[1, 9, 6, 18, 2, 1, 9, 6, 18, 2]\n",
      "5\n",
      "True\n",
      "False\n"
     ]
    }
   ],
   "source": [
    "# basic list opertaions\n",
    "lst1 = [1,9,6,18,2]\n",
    "print(len(lst1))\n",
    "print(lst1*2)\n",
    "print(len(lst1))\n",
    "print(9 in lst1)\n",
    "print(15 in lst1)"
   ]
  },
  {
   "cell_type": "code",
   "execution_count": 15,
   "metadata": {},
   "outputs": [
    {
     "name": "stdout",
     "output_type": "stream",
     "text": [
      "5\n",
      "[1, 9, 6, 18, 2, 1, 9, 6, 18, 2]\n",
      "5\n",
      "True\n",
      "False\n",
      "1 9 6 18 2 "
     ]
    }
   ],
   "source": [
    "# basic list opertaions\n",
    "lst1 = [1,9,6,18,2]\n",
    "print(len(lst1))\n",
    "print(lst1*2)\n",
    "print(len(lst1))\n",
    "print(9 in lst1)\n",
    "print(15 in lst1)\n",
    "for x in range(len(lst1)):\n",
    "    print(lst1[x],end=' ')"
   ]
  },
  {
   "cell_type": "code",
   "execution_count": 17,
   "metadata": {
    "scrolled": true
   },
   "outputs": [
    {
     "name": "stdout",
     "output_type": "stream",
     "text": [
      "1\n",
      "18\n",
      "36\n",
      "7\n",
      "13.5\n"
     ]
    }
   ],
   "source": [
    "# Function of the list\n",
    "lst1\n",
    "print(min(lst1))\n",
    "print(max(lst1))\n",
    "print(sum(lst1))\n",
    "print(sum(lst1)//len(lst1))\n",
    "print(sum(lst1[1::2])/len(lst1[1::2]))"
   ]
  },
  {
   "cell_type": "code",
   "execution_count": null,
   "metadata": {},
   "outputs": [],
   "source": [
    "lst1\n",
    "lst1.append(24)\n",
    "lst1\n",
    "lst1.insert(2,56)\n",
    "lst1\n",
    "lst1.count(18)\n",
    "lst1.index(56)\n",
    "lst1.sort()\n",
    "lst1\n",
    "lst.pop()\n",
    "lst1\n",
    "lst1.pop(1)\n",
    "lst2 = [123,23,45]\n",
    "lst1.extend(lst2)\n",
    "lst1\n",
    "lst1.reverse()\n",
    "lst1.remove(123)\n",
    "lst1"
   ]
  },
  {
   "cell_type": "code",
   "execution_count": 42,
   "metadata": {},
   "outputs": [
    {
     "name": "stdout",
     "output_type": "stream",
     "text": [
      "[3, 2, 9]\n"
     ]
    }
   ],
   "source": [
    "li = [1,9,8,2,6,3]\n",
    "print(li[-1::-2])"
   ]
  },
  {
   "cell_type": "code",
   "execution_count": 44,
   "metadata": {},
   "outputs": [
    {
     "name": "stdout",
     "output_type": "stream",
     "text": [
      "[3, 2]\n"
     ]
    }
   ],
   "source": [
    "li = [1,9,8,2,6,3]\n",
    "print(li[-1:2:-2])"
   ]
  },
  {
   "cell_type": "code",
   "execution_count": 46,
   "metadata": {
    "scrolled": true
   },
   "outputs": [
    {
     "name": "stdout",
     "output_type": "stream",
     "text": [
      "[3, 2, 9]\n"
     ]
    }
   ],
   "source": [
    "li = [1,9,8,2,6,3]\n",
    "print(li[-1:0:-2])"
   ]
  },
  {
   "cell_type": "code",
   "execution_count": 48,
   "metadata": {},
   "outputs": [
    {
     "name": "stdout",
     "output_type": "stream",
     "text": [
      "[3, 2]\n"
     ]
    }
   ],
   "source": [
    "li = [1,9,8,2,6,3]\n",
    "print(li[-1:2:-2])"
   ]
  },
  {
   "cell_type": "code",
   "execution_count": 58,
   "metadata": {},
   "outputs": [
    {
     "data": {
      "text/plain": [
       "6"
      ]
     },
     "execution_count": 58,
     "metadata": {},
     "output_type": "execute_result"
    }
   ],
   "source": [
    "# Function to find the second large item from the list\n",
    "# input :   [1,19,6,2,8,18,3]\n",
    "# output :  18\n",
    "def secondlarge(li):\n",
    "    li.sort()\n",
    "    return li[-2]\n",
    "def genericlarge(li,n):\n",
    "    li.sort()\n",
    "    return li[-n]\n",
    "li= [1,19,6,2,8,18,3]\n",
    "genericlarge(li,4)"
   ]
  },
  {
   "cell_type": "code",
   "execution_count": 60,
   "metadata": {},
   "outputs": [
    {
     "data": {
      "text/plain": [
       "6"
      ]
     },
     "execution_count": 60,
     "metadata": {},
     "output_type": "execute_result"
    }
   ],
   "source": [
    "# Function to find the least item from the list\n",
    "# input : [1,19,6,2,8,18,3]\n",
    "# output : 2\n",
    "def secondleast(li):\n",
    "    li.sort()\n",
    "    return li[1]\n",
    "def genericleast(li,n):\n",
    "    li.sort()\n",
    "    return li[n-1]\n",
    "li = [1,19,6,2,8,18,3]\n",
    "genericleast(li,4)"
   ]
  },
  {
   "cell_type": "markdown",
   "metadata": {},
   "source": [
    "### Linear search\n",
    "- Linear search algorithm can be applied on duplicate and unique list\n",
    "  - Unique list : All items of the list are appeared as only one\n",
    "  - Duplicate list : The items of the list can be appeared more than one\n",
    "- Linear search algorithm can be applied on sorted list or unsorted list  "
   ]
  },
  {
   "cell_type": "code",
   "execution_count": 63,
   "metadata": {},
   "outputs": [
    {
     "data": {
      "text/plain": [
       "-1"
      ]
     },
     "execution_count": 63,
     "metadata": {},
     "output_type": "execute_result"
    }
   ],
   "source": [
    "# Function to search the data in a list\n",
    "# Search is found then return the index if not return -1\n",
    "def linearsearch1(li,taritem):\n",
    "    for x in range(len(li)):\n",
    "        if li[x] == taritem:\n",
    "            return x\n",
    "        return -1\n",
    "li = [1,19,6,2,8,18,3]\n",
    "linearsearch1(li,225)"
   ]
  },
  {
   "cell_type": "code",
   "execution_count": 82,
   "metadata": {},
   "outputs": [
    {
     "name": "stdout",
     "output_type": "stream",
     "text": [
      "1 4 8 "
     ]
    }
   ],
   "source": [
    "# Function\n",
    "# Input : [1,5,9,6,5,15,1,2,5],key=5 # Duplicate\n",
    "# Output : 1 4 8\n",
    "def linearsearch2(li,taritem):\n",
    "    for x in range(len(li)):\n",
    "        if li[x] == taritem:\n",
    "            print(x,end=\" \")\n",
    "    return \n",
    "\n",
    "li = [1,5,9,6,5,15,1,2,5]\n",
    "linearsearch2(li,5)          "
   ]
  },
  {
   "cell_type": "code",
   "execution_count": 89,
   "metadata": {},
   "outputs": [
    {
     "name": "stdout",
     "output_type": "stream",
     "text": [
      "['n', 'b']\n"
     ]
    }
   ],
   "source": [
    "lst = ['n','b']\n",
    "print(lst)"
   ]
  },
  {
   "cell_type": "code",
   "execution_count": 99,
   "metadata": {},
   "outputs": [
    {
     "name": "stdout",
     "output_type": "stream",
     "text": [
      "1 9 19 22 "
     ]
    }
   ],
   "source": [
    "# Function\n",
    "# Input : List\n",
    "# Output : Formatted Output\n",
    "# Test cases :\n",
    "# [1,6,9,4,16,19,22] --1 9 19 22\n",
    "def linearsearch6(li):\n",
    "    # Implement the logic\n",
    "    for x in range(len(li)):\n",
    "        if x == 0 or x == len(li) - 1:\n",
    "            print(li[x],end= \" \")\n",
    "        elif li[x-1] % 2 == 0 and li[x+1] % 2 == 0:\n",
    "            print(li[x],end=\" \")\n",
    "    return\n",
    "li = [1,6,9,4,16,19,22]\n",
    "linearsearch6(li) # 1 9 19 22 "
   ]
  },
  {
   "cell_type": "code",
   "execution_count": 92,
   "metadata": {},
   "outputs": [
    {
     "name": "stdout",
     "output_type": "stream",
     "text": [
      "! !  ! ! ! ! !  ! ! ! ! ! ! ! ! !  "
     ]
    }
   ],
   "source": [
    "# Function\n",
    "# i/p : list\n",
    "#o/p : seq of characters\n",
    "# Test case\n",
    "# [1,5,9,6,5,15,1,2,5],tar=5 --!! !!!!! !!!!!!!!!\n",
    "\n",
    "def linearSearch3(li,tarItem):\n",
    "    # Implement the logic\n",
    "    for x in range(len(li)):\n",
    "        if li[x] == tarItem:\n",
    "            j=0\n",
    "            while j!=x+1:\n",
    "                print(\"!\",end=\" \")\n",
    "                j=j+1\n",
    "            print(end=\" \")\n",
    "    return\n",
    "li = [1,5,9,6,5,15,1,2,5]\n",
    "linearSearch3(li,5)"
   ]
  },
  {
   "cell_type": "code",
   "execution_count": 94,
   "metadata": {},
   "outputs": [
    {
     "data": {
      "text/plain": [
       "60"
      ]
     },
     "execution_count": 94,
     "metadata": {},
     "output_type": "execute_result"
    }
   ],
   "source": [
    "# Function\n",
    "# i/p: List\n",
    "# o/p: Formatted\n",
    "# Test case:\n",
    "# [12,2,45,9,18,15,36] --60\n",
    "#A list item which is perfectly multiple of 3 and 5\n",
    "\n",
    "def linearSearch4(li):\n",
    "    sum=0\n",
    "    for x in range(len(li)):\n",
    "        if li[x] %3 ==0 and li[x] % 5==0 :\n",
    "            sum += li[x] #sum=sum + li[x]\n",
    "    return sum\n",
    "li= [12,2,45,9,18,15,36]\n",
    "linearSearch4(li)"
   ]
  },
  {
   "cell_type": "code",
   "execution_count": 100,
   "metadata": {},
   "outputs": [
    {
     "name": "stdout",
     "output_type": "stream",
     "text": [
      "1 3 8 15 5 "
     ]
    }
   ],
   "source": [
    "\n",
    "# Function\n",
    "#i/p:list\n",
    "#o/p:formatted o/p\n",
    "#test case\n",
    "#[1,2,3,4,5] --[1,3,8,15,5]\n",
    "#[6,5,2,8,2] --[6,12,40,4,2]\n",
    "\n",
    "#1.print first and last as it is because first number does not have previous and last-\n",
    " #-does not have next number\n",
    "#2. need to multiply the previous and next number\n",
    "\n",
    "def linearSearch5(li):\n",
    "    for x in range(len(li)):\n",
    "        if x ==0 or x == len(li) -1:\n",
    "            print(li[x],end=\" \")\n",
    "        else:\n",
    "            print(li[x-1]*li[x+1],end=\" \")\n",
    "    return\n",
    "li =[1,2,3,4,5]\n",
    "linearSearch5(li)"
   ]
  },
  {
   "cell_type": "markdown",
   "metadata": {},
   "source": [
    "### Number to List\n",
    "* Input as Number\n",
    "* Expected output will be List"
   ]
  },
  {
   "cell_type": "code",
   "execution_count": 105,
   "metadata": {},
   "outputs": [
    {
     "data": {
      "text/plain": [
       "[1, 4, 5, 6, 9]"
      ]
     },
     "execution_count": 105,
     "metadata": {},
     "output_type": "execute_result"
    }
   ],
   "source": [
    "# Function for Conversion - Number to List\n",
    "# Input -- Number\n",
    "# Output -- List\n",
    "# Test Cases:-\n",
    "# 14569 -- [1,4,5,6,9]\n",
    "# 1990 -- [1,9,9,0]\n",
    "def numberslistconversion(n):\n",
    "    li = []\n",
    "    while n != 0:\n",
    "        r = n % 10\n",
    "        li.append(r)\n",
    "        n=n//10\n",
    "    li.reverse()\n",
    "    return li\n",
    "numberslistconversion(14569)#[1,4,5,6,9]"
   ]
  },
  {
   "cell_type": "code",
   "execution_count": 107,
   "metadata": {},
   "outputs": [
    {
     "data": {
      "text/plain": [
       "2"
      ]
     },
     "execution_count": 107,
     "metadata": {},
     "output_type": "execute_result"
    }
   ],
   "source": [
    "# Function to count the occurences of a character in a string\n",
    "# \"Python Programming\", p-->2\n",
    "# \"Python Programming\", m-->2\n",
    "def countCharOccurances(s,c):\n",
    "    cnt=0\n",
    "    for ch in s:\n",
    "        if ch == c:\n",
    "            cnt+=1\n",
    "    return cnt\n",
    "def countCharOccurances1(s,c): #both functions gives the same output\n",
    "    return s.count(c)\n",
    "countCharOccurances(\"Python Programming\",'m')"
   ]
  },
  {
   "cell_type": "code",
   "execution_count": 109,
   "metadata": {},
   "outputs": [
    {
     "data": {
      "text/plain": [
       "[1, 2, 3, 4, 5, 6]"
      ]
     },
     "execution_count": 109,
     "metadata": {},
     "output_type": "execute_result"
    }
   ],
   "source": [
    "# Function to convert the string to list\n",
    "# test case\n",
    "# \"1,2,3,4,5,6\" -- [1,2,3,4,5,6]\n",
    "def stringtolistconversion(s):\n",
    "    li = s.split()\n",
    "    numberslist = []\n",
    "    for i in li:\n",
    "        numberslist.append(int(i))\n",
    "    return numberslist\n",
    "s = \"1 2 3 4 5 6\"\n",
    "stringtolistconversion(s) # [1,2,3,4,5,6]"
   ]
  },
  {
   "cell_type": "markdown",
   "metadata": {},
   "source": [
    "### Sorting Algorithms:\n",
    "- Bubble Sort\n",
    "- Selection Sort\n",
    "- Insertion Sort"
   ]
  },
  {
   "cell_type": "markdown",
   "metadata": {},
   "source": [
    "## Bubble Sort:-\n",
    "- This algorithm compares the adj elemets,if the first element is greater\n",
    "- Than second element then it is required to swap the elements"
   ]
  },
  {
   "cell_type": "code",
   "execution_count": 110,
   "metadata": {},
   "outputs": [
    {
     "data": {
      "text/plain": [
       "[1, 3, 6, 18, 19, 25]"
      ]
     },
     "execution_count": 110,
     "metadata": {},
     "output_type": "execute_result"
    }
   ],
   "source": [
    "# Function to represent the Bubble sort\n",
    "def bubblesort(li):\n",
    "    for i in range(len(li)-1):\n",
    "        for j in range(len(li)-1):\n",
    "            if li[j] > li[j+1]:\n",
    "                li[j], li[j+1] = li[j+1],li[j]\n",
    "    return li\n",
    "li =[19,1,25,6,18,3]\n",
    "bubblesort(li)"
   ]
  }
 ],
 "metadata": {
  "kernelspec": {
   "display_name": "Python 3",
   "language": "python",
   "name": "python3"
  },
  "language_info": {
   "codemirror_mode": {
    "name": "ipython",
    "version": 3
   },
   "file_extension": ".py",
   "mimetype": "text/x-python",
   "name": "python",
   "nbconvert_exporter": "python",
   "pygments_lexer": "ipython3",
   "version": "3.7.3"
  }
 },
 "nbformat": 4,
 "nbformat_minor": 2
}
